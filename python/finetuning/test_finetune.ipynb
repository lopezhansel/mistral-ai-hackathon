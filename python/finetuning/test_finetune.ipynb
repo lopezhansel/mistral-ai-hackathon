{
 "cells": [
  {
   "cell_type": "code",
   "execution_count": 14,
   "metadata": {},
   "outputs": [],
   "source": [
    "import requests\n",
    "import os"
   ]
  },
  {
   "cell_type": "code",
   "execution_count": 15,
   "metadata": {},
   "outputs": [],
   "source": [
    "STR_PROMPT = '''\n",
    "You are an expert Python developer experienced with the Manim package. You should only give the code delimited by ```, do not give any descriptions or how to run it. Give me Python code that creates a Manim animation with the specifications below:\n",
    "title: \"Normal Distribution Visualization\"\n",
    "animation: Begin with a title slide with the title, then animate a normal distribution curve with the mean at the center and the standard deviations marked off. Show a point moving along the curve to represent a value and its corresponding probability.\n",
    "important note: The code for the animation should be very simple. The animation should have little text if at all. There should not be any use of svgs or external files.\n",
    "'''"
   ]
  },
  {
   "cell_type": "code",
   "execution_count": 16,
   "metadata": {},
   "outputs": [
    {
     "name": "stdout",
     "output_type": "stream",
     "text": [
      "{'id': 'd21e1895-8a5a-4800-b790-65f97e9790a5', 'object': 'text_completion', 'created': 1711291691, 'model': 'accounts/bassimfaizal-e0d5cc/models/df1e9b8deec0413995e9a1e6b9109b9a', 'choices': [{'index': 0, 'text': '\\nfrom manim import *\\n\\nclass NormalDistribution(Scene):\\n    def construct(self):\\n        title = Text(\"Normal Distribution Visualization\").scale(0.9)\\n        self.play(Write(title))\\n        self.wait(1)\\n        self.play(FadeOut(title))\\n\\n        # Parameters\\n        mean = 0\\n        std_dev = 1\\n        curve_color = BLUE\\n        point_color = RED\\n\\n        # Normal Distribution Curve\\n        x_range = np.linspace(-5, 5, 1000)\\n        y_values = 1 / (std_dev * np.sqrt(2 * np.pi)) * np.exp(-((x_range - mean) ** 2) / (2 * std_dev ** 2))\\n        normal_distribution_graph = FunctionGraph(lambda x: y_values[int(x * 1000)], x_range=x_range, color=curve_color)\\n\\n        # Mean Line\\n        mean_line = Line(LEFT * mean, RIGHT * mean, color=WHITE)\\n\\n        # Standard Deviation Lines\\n        std_dev_lines = VGroup()\\n        for _ in range(2):\\n            std_dev_line = Line(UP * std_dev, DOWN * std_dev, color=WHITE)\\n            std_dev_lines.add(std_dev_line)\\n\\n        # Point moving along the curve\\n        point = Dot(radius=0.1, color=point_color)\\n        point_path = always_redraw(lambda: FunctionGraph(lambda x: y_values[int(x * 1000)], x_range=[x_range[0], x_range[-1]], color=WHITE).point_from_proportion(np.random.normal()))\\n        point.move_to(point_path.points[0])\\n\\n        # Animation\\n        self.play(Create(normal_distribution_graph))\\n        self.play(GrowFromCenter(mean_line))\\n        self.play(FadeIn(std_dev_lines))\\n        self.play(point.animate.shift(point_path.points[1] - point_path.points[0]))\\n        self.play(point.animate.shift(point_path.points[2] - point_path.points[1]))\\n        self.play(point.animate.shift(point_path.points[3] - point_path.points[2]))\\n        self.play(point.animate.shift(point_path.points[4] - point_path.points[3]))\\n        self.play(point.animate.shift(point_path.points[5] - point_path.points[4]))\\n        self.play(point.animate.shift(point_path.points[6] - point_path.points[5]))\\n        self.play(point.animate.shift(point_path.points[7] - point_path.points[6]))\\n        self.play(point.animate.shift(point_path.points[8] - point_path.points[7]))\\n        self.play(point.animate.shift(point_path.points[9] - point_path.points[8]))\\n        self.wait(2)', 'logprobs': None, 'finish_reason': 'stop'}], 'usage': {'prompt_tokens': 152, 'total_tokens': 927, 'completion_tokens': 775}}\n"
     ]
    }
   ],
   "source": [
    "# Your API key and other parameters\n",
    "API_KEY = os.getenv('FIREWORKS_API_KEY')\n",
    "ACCOUNT_ID = os.getenv('FIREWORKS_ACCOUNT_ID')\n",
    "MODEL_ID = 'df1e9b8deec0413995e9a1e6b9109b9a'\n",
    "\n",
    "# The API endpoint\n",
    "url = 'https://api.fireworks.ai/inference/v1/completions'\n",
    "\n",
    "# Headers for the request\n",
    "headers = {\n",
    "    'Authorization': f'Bearer {API_KEY}',\n",
    "    'Content-Type': 'application/json',\n",
    "}\n",
    "\n",
    "# Data to be sent in the request\n",
    "data = {\n",
    "    'model': f'accounts/{ACCOUNT_ID}/models/{MODEL_ID}',\n",
    "    'prompt': STR_PROMPT,\n",
    "    \"temperature\": 0,\n",
    "    'max_tokens': 32000,\n",
    "}\n",
    "\n",
    "# Make the POST request\n",
    "response = requests.post(url, headers=headers, json=data)\n",
    "\n",
    "# Check if the request was successful\n",
    "if response.status_code == 200:\n",
    "    # Process the response here\n",
    "    print(response.json())\n",
    "else:\n",
    "    # Handle errors here\n",
    "    print(f'Error: {response.status_code}, {response.text}')"
   ]
  },
  {
   "cell_type": "code",
   "execution_count": null,
   "metadata": {},
   "outputs": [],
   "source": []
  },
  {
   "cell_type": "code",
   "execution_count": null,
   "metadata": {},
   "outputs": [],
   "source": []
  },
  {
   "cell_type": "code",
   "execution_count": null,
   "metadata": {},
   "outputs": [],
   "source": []
  },
  {
   "cell_type": "code",
   "execution_count": 9,
   "metadata": {},
   "outputs": [],
   "source": [
    "import csv\n",
    "import json\n",
    "\n",
    "# Define the file paths\n",
    "jsonl_file_path = 'output_processed.jsonl'\n",
    "csv_file_path = 'instruction_response.csv'\n",
    "\n",
    "# Open the JSON Lines file and read lines\n",
    "with open(jsonl_file_path, 'r') as jsonl_file:\n",
    "    # Open the CSV file for writing\n",
    "    with open(csv_file_path, 'w', newline='') as csv_file:\n",
    "        csv_writer = csv.writer(csv_file)\n",
    "        # Write the header row\n",
    "        csv_writer.writerow(['instruction', 'response'])\n",
    "        \n",
    "        # Process each line in the JSONL file\n",
    "        for line in jsonl_file:\n",
    "            # Convert the JSON string into a Python dictionary\n",
    "            data = json.loads(line)\n",
    "            # Extract the instruction and response\n",
    "            instruction = data.get('instruction', '')\n",
    "            response = data.get('response', '')\n",
    "            # Write the instruction and response to the CSV file\n",
    "            csv_writer.writerow([instruction, response])"
   ]
  },
  {
   "cell_type": "code",
   "execution_count": null,
   "metadata": {},
   "outputs": [],
   "source": []
  },
  {
   "cell_type": "code",
   "execution_count": null,
   "metadata": {},
   "outputs": [],
   "source": [
    "# and with the following as simply light reference if you need (note the code here may be completely incorrect) '{code_input}',\n",
    "# generate or correct"
   ]
  },
  {
   "cell_type": "code",
   "execution_count": 19,
   "metadata": {},
   "outputs": [],
   "source": [
    "from mistralai.client import MistralClient\n",
    "from mistralai.models.chat_completion import ChatMessage\n",
    "import os\n",
    "\n",
    "def generate_manim_code(user_input):\n",
    "    # Retrieve the API key from the environment variables\n",
    "    api_key = os.getenv('MISTRAL_API_KEY')\n",
    "    \n",
    "    # Define the model to use\n",
    "    model = \"mistral-large-latest\"\n",
    "    \n",
    "    # Initialize the Mistral client with the API key\n",
    "    client = MistralClient(api_key=api_key)\n",
    "    \n",
    "    # Format the prompt as specified, using user_input and code_input\n",
    "    prompt = f\"You are an expert python developer experienced in using Manim. Given the user query '{user_input}' generate the Manim code that fulfills the user's request. Please ensure there is no title slide used. Do not use MathTex. Your response should start with \\\"from manim import *\\\" and contain only the code.\"\n",
    "    \n",
    "    # Construct the messages list with a single ChatMessage containing the prompt\n",
    "    messages = [\n",
    "        ChatMessage(role=\"user\", content=prompt)\n",
    "    ]\n",
    "    \n",
    "    # Make the request to the chat API with no streaming\n",
    "    chat_response = client.chat(\n",
    "        model=model,\n",
    "        messages=messages,\n",
    "        temperature=0.2\n",
    "    )\n",
    "    \n",
    "    # Access and return the content of the first message in the response\n",
    "    # Check if there are choices and messages before accessing the content to avoid errors\n",
    "    if chat_response.choices and chat_response.choices[0].message:\n",
    "        return chat_response.choices[0].message.content\n",
    "    else:\n",
    "        return \"No completion found or error in the response.\"\n"
   ]
  },
  {
   "cell_type": "code",
   "execution_count": 20,
   "metadata": {},
   "outputs": [],
   "source": [
    "CODE_INPUT = '''\n",
    "\n",
    "from manim import *\\n\\nclass NormalDistribution(Scene):\\n    def construct(self):\\n        title = Text(\"Normal Distribution Visualization\").scale(0.9)\\n        self.play(Write(title))\\n        self.wait(1)\\n        self.play(FadeOut(title))\\n\\n        # Parameters\\n        mean = 0\\n        std_dev = 1\\n        curve_color = BLUE\\n        point_color = RED\\n\\n        # Normal Distribution Curve\\n        x_range = np.linspace(-5, 5, 1000)\\n        y_values = 1 / (std_dev * np.sqrt(2 * np.pi)) * np.exp(-((x_range - mean) ** 2) / (2 * std_dev ** 2))\\n        normal_distribution_graph = FunctionGraph(lambda x: y_values[int(x * 1000)], x_range=x_range, color=curve_color)\\n\\n        # Mean Line\\n        mean_line = Line(LEFT * mean, RIGHT * mean, color=WHITE)\\n\\n        # Standard Deviation Lines\\n        std_dev_lines = VGroup()\\n        for _ in range(2):\\n            std_dev_line = Line(UP * std_dev, DOWN * std_dev, color=WHITE)\\n            std_dev_lines.add(std_dev_line)\\n\\n        # Point moving along the curve\\n        point = Dot(radius=0.1, color=point_color)\\n        point_path = always_redraw(lambda: FunctionGraph(lambda x: y_values[int(x * 1000)], x_range=[x_range[0], x_range[-1]], color=WHITE).point_from_proportion(np.random.normal()))\\n        point.move_to(point_path.points[0])\\n\\n        # Animation\\n        self.play(Create(normal_distribution_graph))\\n        self.play(GrowFromCenter(mean_line))\\n        self.play(FadeIn(std_dev_lines))\\n        self.play(point.animate.shift(point_path.points[1] - point_path.points[0]))\\n        self.play(point.animate.shift(point_path.points[2] - point_path.points[1]))\\n        self.play(point.animate.shift(point_path.points[3] - point_path.points[2]))\\n        self.play(point.animate.shift(point_path.points[4] - point_path.points[3]))\\n        self.play(point.animate.shift(point_path.points[5] - point_path.points[4]))\\n        self.play(point.animate.shift(point_path.points[6] - point_path.points[5]))\\n        self.play(point.animate.shift(point_path.points[7] - point_path.points[6]))\\n        self.play(point.animate.shift(point_path.points[8] - point_path.points[7]))\\n        self.play(point.animate.shift(point_path.points[9] - point_path.points[8]))\\n        self.wait(2)\n",
    "'''"
   ]
  },
  {
   "cell_type": "code",
   "execution_count": 21,
   "metadata": {},
   "outputs": [
    {
     "data": {
      "text/plain": [
       "'```python\\nfrom manim import *\\n\\nclass NormalDistributionVisualization(Scene):\\n    def construct(self):\\n        axes = Axes(\\n            x_range=[-4, 4, 1],\\n            y_range=[0, 1, 0.25],\\n            axis_color=BLUE,\\n            x_axis_config={\"numbers_to_include\": [-3,0,3]},\\n            tips=False,\\n        )\\n\\n        labels = axes.get_axis_labels()\\n\\n        graph = axes.get_graph(lambda x : 0.4*np.exp(-x**2), color=YELLOW)\\n        dot = Dot(color=RED).move_to(graph.points[0])\\n\\n        mean_line = DashedLine(start=axes.c2p(0,0), end=axes.c2p(0,0.4), color=GREEN)\\n        std_dev_lines = [\\n            DashedLine(start=axes.c2p(-1,0), end=axes.c2p(-1,0.4), color=GREEN),\\n            DashedLine(start=axes.c2p(1,0), end=axes.c2p(1,0.4), color=GREEN)\\n        ]\\n\\n        self.play(Create(axes), Write(labels))\\n        self.wait(1)\\n\\n        self.play(Create(graph), Create(mean_line), Create(*std_dev_lines))\\n        self.wait(1)\\n\\n        self.play(\\n            dot.animate.move_along_path(graph),\\n            rate_func=linear,\\n            run_time=5\\n        )\\n        self.wait(1)\\n```'"
      ]
     },
     "execution_count": 21,
     "metadata": {},
     "output_type": "execute_result"
    }
   ],
   "source": [
    "generate_manim_code(STR_PROMPT, \n",
    "                    CODE_INPUT)"
   ]
  },
  {
   "cell_type": "code",
   "execution_count": null,
   "metadata": {},
   "outputs": [],
   "source": []
  },
  {
   "cell_type": "code",
   "execution_count": null,
   "metadata": {},
   "outputs": [],
   "source": []
  },
  {
   "cell_type": "code",
   "execution_count": null,
   "metadata": {},
   "outputs": [],
   "source": []
  },
  {
   "cell_type": "code",
   "execution_count": null,
   "metadata": {},
   "outputs": [],
   "source": []
  },
  {
   "cell_type": "code",
   "execution_count": null,
   "metadata": {},
   "outputs": [],
   "source": []
  },
  {
   "cell_type": "code",
   "execution_count": null,
   "metadata": {},
   "outputs": [],
   "source": []
  },
  {
   "cell_type": "code",
   "execution_count": null,
   "metadata": {},
   "outputs": [],
   "source": [
    "import csv\n",
    "import sys\n",
    "from dotenv import load_dotenv\n",
    "from openai import OpenAI\n",
    "\n",
    "load_dotenv()\n",
    "\n",
    "client = OpenAI()\n",
    "\n",
    "def get_prompt(idea):\n",
    "    prompt=f\"\"\"\n",
    "    You are an expert prompt engineer and python developer, experienced with the Manim package. Your task is to rewrite a user prompt in the given format.\n",
    "\n",
    "    Here are some examples:\n",
    "    1. User prompt: \"explain gradient descent\"\n",
    "    Rewritten prompt: \n",
    "    You are an expert Python developer experienced with the Manim package.You should only give the code delimited by ```, do not give any descriptions or how to run it. Give me Python code that creates a Manim animation with the specifications below:\n",
    "    title: \"Gradient Descent Simplified\"\n",
    "    animation: Start with a title slide with the title, and then animate a conceptual representation of gradient descent by showing a ball rolling down a slope towards the lowest point, indicating the optimization process.\n",
    "    important note: The code for the animation should be very simple. The animation should have little text if at all. There should not be any use of svgs or external files. \n",
    "\n",
    "    2. User prompt: \"Explain Newton's First Law\"\n",
    "    Rewritten prompt: \n",
    "    You are an expert Python developer experienced with the Manim package.You should only give the code delimited by ```, do not give any descriptions or how to run it. Give me Python code that creates a Manim animation with the specifications below:\n",
    "    title: \"Newton's First Law in Motion\"\n",
    "    animation: Begin with a title slide with the title, then animate a stationary object remaining at rest, and a moving object continuing its motion at a constant velocity in a straight line, unless acted upon by an external force.\n",
    "    important note: The code for the animation should be very simple. The animation should have little text if at all. There should not be any use of svgs or external files. \n",
    "\n",
    "    3. User prompt: \"Demonstrate how a lever works\"\n",
    "    Rewritten prompt: \n",
    "    You are an expert Python developer experienced with the Manim package.You should only give the code delimited by ```, do not give any descriptions or how to run it. Give me Python code that creates a Manim animation with the specifications below:\n",
    "    title: \"The Principle of the Lever\"\n",
    "    animation: Start with a title slide with the title, and then animate a simple lever in action, showing how a small force applied at one end can lift a heavy weight at the other end, illustrating the concept of mechanical advantage.\n",
    "    important note: The code for the animation should be very simple. The animation should have little text if at all. There should not be any use of svgs or external files. \n",
    "\n",
    "    Now rewrite the foll owing prompt:\n",
    "    User prompt: \"{idea}\"\n",
    "    Rewritten prompt: \n",
    "    \"\"\"\n",
    "    messages = [{\"role\": \"user\", \"content\": prompt}]\n",
    "    response = client.chat.completions.create(\n",
    "        model=\"gpt-3.5-turbo-0125\",\n",
    "        messages=messages,\n",
    "        temperature=0)\n",
    "    return response.choices[0].message.content.strip()\n",
    "\n",
    "def get_code(refined_prompt):\n",
    "    messages = [{\"role\": \"user\", \"content\": refined_prompt}]\n",
    "    response = client.chat.completions.create(\n",
    "        model=\"gpt-4-0125-preview\",\n",
    "        messages=messages,\n",
    "        temperature=0)\n",
    "    return response.choices[0].message.content.strip()\n",
    "\n",
    "# prompt= get_prompt('explain gradient descent')\n",
    "# print(get_code(prompt))\n",
    "if __name__ == \"__main__\":\n",
    "    try:\n",
    "        if len(sys.argv) < 2:\n",
    "            raise ValueError(\"Please provide a CSV file.\")\n",
    "        input_csv_file = sys.argv[1]\n",
    "\n",
    "        # Read the input CSV file\n",
    "        with open(input_csv_file, 'r') as csvfile:\n",
    "            reader = csv.DictReader(csvfile)\n",
    "            rows = [row for row in reader]\n",
    "\n",
    "        # Add the new columns\n",
    "        for row in rows:\n",
    "            idea = row['idea']\n",
    "            print(f\"Idea:{idea}\")\n",
    "            refined_prompt = get_prompt(idea)\n",
    "            code = get_code(refined_prompt)\n",
    "            row['prompt'] = refined_prompt\n",
    "            row['code'] = code\n",
    "\n",
    "        # Write the output to a new CSV file\n",
    "        output_csv_file = 'output.csv'\n",
    "        with open(output_csv_file, 'w') as csvfile:\n",
    "            fieldnames = reader.fieldnames + ['prompt', 'code']\n",
    "            writer = csv.DictWriter(csvfile, fieldnames=fieldnames)\n",
    "            writer.writeheader()\n",
    "            writer.writerows(rows)\n",
    "\n",
    "    except Exception as e:\n",
    "        print(\"An error occurred:\", e)\n",
    "        sys.exit(1)"
   ]
  },
  {
   "cell_type": "code",
   "execution_count": 4,
   "metadata": {},
   "outputs": [],
   "source": [
    "import json\n",
    "\n",
    "# Path to the JSONL file\n",
    "jsonl_file_path = 'output.jsonl'\n",
    "new_jsonl_content = []\n",
    "\n",
    "with open(jsonl_file_path, 'r') as file:\n",
    "    for line in file:\n",
    "        # Parse the JSON object in each line\n",
    "        data = json.loads(line)\n",
    "        # Extract code from the 'response' field, between the triple backticks\n",
    "        code = data['response'].split('```')[1].strip()\n",
    "        # Remove the leading \"python\\n\" if present\n",
    "        if code.startswith(\"python\\n\"):\n",
    "            code = code.replace(\"python\\n\", \"\", 1).strip()\n",
    "        # Update the 'response' field with the modified Python code\n",
    "        data['response'] = code\n",
    "        new_jsonl_content.append(data)\n",
    "\n",
    "# Write the modified content back to the file\n",
    "with open('output_processed.jsonl', 'w') as file:\n",
    "    for item in new_jsonl_content:\n",
    "        # Convert the Python dictionary to a JSON string and write it to the file\n",
    "        file.write(json.dumps(item) + '\\n')\n",
    "\n"
   ]
  },
  {
   "cell_type": "code",
   "execution_count": null,
   "metadata": {},
   "outputs": [],
   "source": []
  }
 ],
 "metadata": {
  "kernelspec": {
   "display_name": "base",
   "language": "python",
   "name": "python3"
  },
  "language_info": {
   "codemirror_mode": {
    "name": "ipython",
    "version": 3
   },
   "file_extension": ".py",
   "mimetype": "text/x-python",
   "name": "python",
   "nbconvert_exporter": "python",
   "pygments_lexer": "ipython3",
   "version": "3.10.13"
  }
 },
 "nbformat": 4,
 "nbformat_minor": 2
}
